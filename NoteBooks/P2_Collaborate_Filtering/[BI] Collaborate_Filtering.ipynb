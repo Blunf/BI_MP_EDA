{
 "cells": [
  {
   "cell_type": "markdown",
   "id": "185321d2",
   "metadata": {},
   "source": [
    "### Collaborative filtering\n",
    "\n",
    "one of the most widely used core algorithms in recommendation systems. It provides personalized recommendations by automatically predicting a user's interests or preferences based on preference information (such as likes and behavioral data) collected from many users. This method is based on the assumption that \"if people with similar tastes to mine like something, I am also likely to like it.\""
   ]
  },
  {
   "cell_type": "markdown",
   "id": "fe1fe82b",
   "metadata": {},
   "source": [
    "### SVD?\n",
    "\n",
    "Singular Value Decomposition (SVD) is a matrix decomposition technique widely used in collaborative filtering.\n",
    "\n",
    "In collaborative filtering, user-item rating matrices are often large and mostly empty (sparse). SVD decomposes this rating matrix into three lower-dimensional matrices, allowing the identification of user and item characteristics in a hidden latent factor space.\n",
    "\n",
    "When a rating matrix is decomposed using SVD, users and movies are represented as coordinates in a latent feature space, such as 'for children/adults' or 'blockbuster/art films'.\n",
    "For example, User A might show numerical tendencies favoring 'adult-oriented' and 'blockbuster' features, while User B might exhibit preferences for 'child-friendly' and 'art film' characteristics."
   ]
  },
  {
   "cell_type": "markdown",
   "id": "878c848c",
   "metadata": {},
   "source": [
    "### HybridSVD Model (vs. Original SVD)\n",
    "\n",
    "https://paperswithcode.com/paper/hybridsvd-when-collaborative-information-is\n",
    "\n",
    "#### 1. Introduction\n",
    "\n",
    "**SVD** is a well-known SVD-based collaborative filtering method. While it offers speed and simplicity, it suffers from critical limitations—especially when user-item interactions are sparse or when new users/items appear (cold start problem).  \n",
    "**HybridSVD** addresses these limitations by incorporating side information (e.g., user attributes or item features) into the SVD framework without sacrificing computational efficiency.\n",
    "\n",
    "#### 2. Key Differences\n",
    "\n",
    "| Aspect                     | PureSVD                                      | HybridSVD                                                      |\n",
    "|---------------------------|----------------------------------------------|----------------------------------------------------------------|\n",
    "| Uses side information     | ❌ No                                         | ✅ Yes                                                         |\n",
    "| Cold start support        | ❌ Weak                                       | ✅ Strong (through feature mapping)                            |\n",
    "| Flexibility of latent space | ❌ Fixed (cosine-based latent space)         | ✅ Adaptive (informed by user/item similarity)                 |\n",
    "| Complexity                | ✅ Simple and efficient                       | ✅ Slightly more complex, but optimized via Cholesky methods   |\n",
    "| Folding-in (online update) | ✅ Supported                                  | ✅ Supported, with enhanced latent space                        |\n",
    "| Parameter tuning          | ✅ Easy (rank truncation)                     | ✅ Easy (same with additional α, β parameters)                 |\n",
    "\n",
    "\n",
    "#### 3. Advantages of HybridSVD\n",
    "\n",
    "**Incorporates Side Information**\n",
    "\n",
    "By modeling auxiliary similarities between users and items, HybridSVD can utilize genres, brands, demographic attributes, etc.\n",
    "\n",
    "**Solves the Cold Start Problem**\n",
    "\n",
    "HybridSVD learns mappings from features to latent vectors, allowing recommendation even when no interaction history exists.\n",
    "\n",
    "**Retains PureSVD Strengths**\n",
    "\n",
    "It keeps fast convergence, rank truncation, folding-in, and compatibility with sparse data.\n",
    "\n",
    "\n",
    "#### 4. When to Use HybridSVD\n",
    "\n",
    "- The dataset is sparse (e.g., e-commerce with many items but few purchases)\n",
    "- Cold start items or users are common\n",
    "- Side information is rich and reliable\n",
    "- Real-time recommendation is required"
   ]
  },
  {
   "cell_type": "markdown",
   "id": "f6d849f7",
   "metadata": {},
   "source": [
    "-----------------------------------"
   ]
  },
  {
   "cell_type": "markdown",
   "id": "6bd9d19e",
   "metadata": {},
   "source": [
    "### Analysis Dataset"
   ]
  },
  {
   "cell_type": "code",
   "execution_count": 5,
   "id": "6b51a0d5",
   "metadata": {},
   "outputs": [
    {
     "data": {
      "text/html": [
       "<div>\n",
       "<style scoped>\n",
       "    .dataframe tbody tr th:only-of-type {\n",
       "        vertical-align: middle;\n",
       "    }\n",
       "\n",
       "    .dataframe tbody tr th {\n",
       "        vertical-align: top;\n",
       "    }\n",
       "\n",
       "    .dataframe thead th {\n",
       "        text-align: right;\n",
       "    }\n",
       "</style>\n",
       "<table border=\"1\" class=\"dataframe\">\n",
       "  <thead>\n",
       "    <tr style=\"text-align: right;\">\n",
       "      <th></th>\n",
       "      <th>Unnamed: 0</th>\n",
       "      <th>Apple</th>\n",
       "      <th>Bread</th>\n",
       "      <th>Butter</th>\n",
       "      <th>Cheese</th>\n",
       "      <th>Corn</th>\n",
       "      <th>Dill</th>\n",
       "      <th>Eggs</th>\n",
       "      <th>Ice cream</th>\n",
       "      <th>Kidney Beans</th>\n",
       "      <th>Milk</th>\n",
       "      <th>Nutmeg</th>\n",
       "      <th>Onion</th>\n",
       "      <th>Sugar</th>\n",
       "      <th>Unicorn</th>\n",
       "      <th>Yogurt</th>\n",
       "      <th>chocolate</th>\n",
       "    </tr>\n",
       "  </thead>\n",
       "  <tbody>\n",
       "    <tr>\n",
       "      <th>0</th>\n",
       "      <td>0</td>\n",
       "      <td>False</td>\n",
       "      <td>True</td>\n",
       "      <td>False</td>\n",
       "      <td>False</td>\n",
       "      <td>True</td>\n",
       "      <td>True</td>\n",
       "      <td>False</td>\n",
       "      <td>True</td>\n",
       "      <td>False</td>\n",
       "      <td>False</td>\n",
       "      <td>False</td>\n",
       "      <td>False</td>\n",
       "      <td>True</td>\n",
       "      <td>False</td>\n",
       "      <td>True</td>\n",
       "      <td>True</td>\n",
       "    </tr>\n",
       "    <tr>\n",
       "      <th>1</th>\n",
       "      <td>1</td>\n",
       "      <td>False</td>\n",
       "      <td>False</td>\n",
       "      <td>False</td>\n",
       "      <td>False</td>\n",
       "      <td>False</td>\n",
       "      <td>False</td>\n",
       "      <td>False</td>\n",
       "      <td>False</td>\n",
       "      <td>False</td>\n",
       "      <td>True</td>\n",
       "      <td>False</td>\n",
       "      <td>False</td>\n",
       "      <td>False</td>\n",
       "      <td>False</td>\n",
       "      <td>False</td>\n",
       "      <td>False</td>\n",
       "    </tr>\n",
       "    <tr>\n",
       "      <th>2</th>\n",
       "      <td>2</td>\n",
       "      <td>True</td>\n",
       "      <td>False</td>\n",
       "      <td>True</td>\n",
       "      <td>False</td>\n",
       "      <td>False</td>\n",
       "      <td>True</td>\n",
       "      <td>False</td>\n",
       "      <td>True</td>\n",
       "      <td>False</td>\n",
       "      <td>True</td>\n",
       "      <td>False</td>\n",
       "      <td>False</td>\n",
       "      <td>False</td>\n",
       "      <td>False</td>\n",
       "      <td>True</td>\n",
       "      <td>True</td>\n",
       "    </tr>\n",
       "    <tr>\n",
       "      <th>3</th>\n",
       "      <td>3</td>\n",
       "      <td>False</td>\n",
       "      <td>False</td>\n",
       "      <td>True</td>\n",
       "      <td>True</td>\n",
       "      <td>False</td>\n",
       "      <td>True</td>\n",
       "      <td>False</td>\n",
       "      <td>False</td>\n",
       "      <td>False</td>\n",
       "      <td>True</td>\n",
       "      <td>True</td>\n",
       "      <td>True</td>\n",
       "      <td>False</td>\n",
       "      <td>False</td>\n",
       "      <td>False</td>\n",
       "      <td>False</td>\n",
       "    </tr>\n",
       "    <tr>\n",
       "      <th>4</th>\n",
       "      <td>4</td>\n",
       "      <td>True</td>\n",
       "      <td>True</td>\n",
       "      <td>False</td>\n",
       "      <td>False</td>\n",
       "      <td>False</td>\n",
       "      <td>False</td>\n",
       "      <td>False</td>\n",
       "      <td>False</td>\n",
       "      <td>False</td>\n",
       "      <td>False</td>\n",
       "      <td>False</td>\n",
       "      <td>False</td>\n",
       "      <td>False</td>\n",
       "      <td>False</td>\n",
       "      <td>False</td>\n",
       "      <td>False</td>\n",
       "    </tr>\n",
       "  </tbody>\n",
       "</table>\n",
       "</div>"
      ],
      "text/plain": [
       "   Unnamed: 0  Apple  Bread  Butter  Cheese   Corn   Dill   Eggs  Ice cream  \\\n",
       "0           0  False   True   False   False   True   True  False       True   \n",
       "1           1  False  False   False   False  False  False  False      False   \n",
       "2           2   True  False    True   False  False   True  False       True   \n",
       "3           3  False  False    True    True  False   True  False      False   \n",
       "4           4   True   True   False   False  False  False  False      False   \n",
       "\n",
       "   Kidney Beans   Milk  Nutmeg  Onion  Sugar  Unicorn  Yogurt  chocolate  \n",
       "0         False  False   False  False   True    False    True       True  \n",
       "1         False   True   False  False  False    False   False      False  \n",
       "2         False   True   False  False  False    False    True       True  \n",
       "3         False   True    True   True  False    False   False      False  \n",
       "4         False  False   False  False  False    False   False      False  "
      ]
     },
     "execution_count": 5,
     "metadata": {},
     "output_type": "execute_result"
    }
   ],
   "source": [
    "import pandas as pd\n",
    "from gensim.models import Word2Vec\n",
    "from mlxtend.frequent_patterns import apriori\n",
    "\n",
    "df = pd.read_csv('basket_analysis.csv')\n",
    "\n",
    "df.head()"
   ]
  },
  {
   "cell_type": "code",
   "execution_count": 6,
   "id": "37b228e7",
   "metadata": {},
   "outputs": [
    {
     "name": "stdout",
     "output_type": "stream",
     "text": [
      "<class 'pandas.core.frame.DataFrame'>\n",
      "RangeIndex: 999 entries, 0 to 998\n",
      "Data columns (total 17 columns):\n",
      " #   Column        Non-Null Count  Dtype\n",
      "---  ------        --------------  -----\n",
      " 0   Unnamed: 0    999 non-null    int64\n",
      " 1   Apple         999 non-null    bool \n",
      " 2   Bread         999 non-null    bool \n",
      " 3   Butter        999 non-null    bool \n",
      " 4   Cheese        999 non-null    bool \n",
      " 5   Corn          999 non-null    bool \n",
      " 6   Dill          999 non-null    bool \n",
      " 7   Eggs          999 non-null    bool \n",
      " 8   Ice cream     999 non-null    bool \n",
      " 9   Kidney Beans  999 non-null    bool \n",
      " 10  Milk          999 non-null    bool \n",
      " 11  Nutmeg        999 non-null    bool \n",
      " 12  Onion         999 non-null    bool \n",
      " 13  Sugar         999 non-null    bool \n",
      " 14  Unicorn       999 non-null    bool \n",
      " 15  Yogurt        999 non-null    bool \n",
      " 16  chocolate     999 non-null    bool \n",
      "dtypes: bool(16), int64(1)\n",
      "memory usage: 23.5 KB\n"
     ]
    }
   ],
   "source": [
    "df.info()"
   ]
  },
  {
   "cell_type": "markdown",
   "id": "1551a221",
   "metadata": {},
   "source": [
    "- Your DataFrame has 999 rows (transactions) and 17 columns.\n",
    "\n",
    "- The first column, Unnamed: 0, is an integer index column.\n",
    "\n",
    "- The other 16 columns represent items (e.g., Apple, Bread, Butter, etc.), and their values are of boolean type (True or False), indicating whether each item was present in the transaction.\n",
    "\n",
    "- There are no missing values in any column."
   ]
  },
  {
   "cell_type": "code",
   "execution_count": 7,
   "id": "22364648",
   "metadata": {},
   "outputs": [
    {
     "name": "stdout",
     "output_type": "stream",
     "text": [
      "Unnamed: 0      997\n",
      "Apple             0\n",
      "Bread             0\n",
      "Butter            0\n",
      "Cheese            0\n",
      "Corn              0\n",
      "Dill              0\n",
      "Eggs              0\n",
      "Ice cream         0\n",
      "Kidney Beans      0\n",
      "Milk              0\n",
      "Nutmeg            0\n",
      "Onion             0\n",
      "Sugar             0\n",
      "Unicorn           0\n",
      "Yogurt            0\n",
      "chocolate         0\n",
      "dtype: int64\n",
      "    support  itemsets\n",
      "0  0.383383   (Apple)\n",
      "1  0.384384   (Bread)\n",
      "2  0.420420  (Butter)\n",
      "3  0.404404  (Cheese)\n",
      "4  0.407407    (Corn)\n"
     ]
    }
   ],
   "source": [
    "print(df.apply(lambda col: col.map(lambda x: x not in [0, 1, True, False])).sum())\n",
    "df = df.replace({2: 1, 3: 1, 4: 1})\n",
    "frequent_itemsets = apriori(df.drop(columns=['Unnamed: 0'], errors='ignore'), min_support=0.15, use_colnames=True)\n",
    "print(frequent_itemsets.head())"
   ]
  },
  {
   "cell_type": "markdown",
   "id": "94b5d08a",
   "metadata": {},
   "source": [
    "- For each column (item), this shows how many values are not 0, 1, True, or False.\n",
    "\n",
    "- Unnamed: 0 has 994 such values (all rows), which means it’s just an index column and not useful for analysis.\n",
    "\n",
    "- All other items have 0, meaning their values are clean (only 0, 1, True, or False).\n",
    "\n",
    "- This is the result of the apriori function, showing how frequently each item appears in all transactions (the \"support\").\n",
    "\n",
    "- For example: (Apple) with support 0.383383 means Apple appears in about 38.3% of all transactions.\n"
   ]
  },
  {
   "cell_type": "markdown",
   "id": "e308125b",
   "metadata": {},
   "source": [
    "-----------------------------------"
   ]
  },
  {
   "cell_type": "markdown",
   "id": "06bfbffa",
   "metadata": {},
   "source": [
    "### Hybrid SVD Model "
   ]
  },
  {
   "cell_type": "code",
   "execution_count": 8,
   "id": "f3834b4c",
   "metadata": {},
   "outputs": [
    {
     "ename": "ModuleNotFoundError",
     "evalue": "No module named 'surprise'",
     "output_type": "error",
     "traceback": [
      "\u001b[0;31m---------------------------------------------------------------------------\u001b[0m",
      "\u001b[0;31mModuleNotFoundError\u001b[0m                       Traceback (most recent call last)",
      "Cell \u001b[0;32mIn[8], line 2\u001b[0m\n\u001b[1;32m      1\u001b[0m \u001b[38;5;66;03m# pip install scikit-surprise\u001b[39;00m\n\u001b[0;32m----> 2\u001b[0m \u001b[38;5;28;01mfrom\u001b[39;00m \u001b[38;5;21;01msurprise\u001b[39;00m \u001b[38;5;28;01mimport\u001b[39;00m SVD, Dataset, Reader\n\u001b[1;32m      3\u001b[0m \u001b[38;5;28;01mimport\u001b[39;00m \u001b[38;5;21;01mpandas\u001b[39;00m \u001b[38;5;28;01mas\u001b[39;00m \u001b[38;5;21;01mpd\u001b[39;00m\n\u001b[1;32m      5\u001b[0m \u001b[38;5;66;03m# 예시 데이터프레임 생성\u001b[39;00m\n",
      "\u001b[0;31mModuleNotFoundError\u001b[0m: No module named 'surprise'"
     ]
    }
   ],
   "source": [
    "# pip install scikit-surprise\n",
    "from surprise import SVD, Dataset, Reader\n",
    "import pandas as pd\n",
    "\n",
    "# 예시 데이터프레임 생성\n",
    "df = pd.read_csv('your_ratings.csv')  # user, item, rating 컬럼 필요\n",
    "\n",
    "reader = Reader(rating_scale=(df['rating'].min(), df['rating'].max()))\n",
    "data = Dataset.load_from_df(df[['user', 'item', 'rating']], reader)\n",
    "\n",
    "trainset = data.build_full_trainset()\n",
    "algo = SVD()\n",
    "algo.fit(trainset)"
   ]
  }
 ],
 "metadata": {
  "kernelspec": {
   "display_name": "Python 3",
   "language": "python",
   "name": "python3"
  },
  "language_info": {
   "codemirror_mode": {
    "name": "ipython",
    "version": 3
   },
   "file_extension": ".py",
   "mimetype": "text/x-python",
   "name": "python",
   "nbconvert_exporter": "python",
   "pygments_lexer": "ipython3",
   "version": "3.10.6"
  }
 },
 "nbformat": 4,
 "nbformat_minor": 5
}
