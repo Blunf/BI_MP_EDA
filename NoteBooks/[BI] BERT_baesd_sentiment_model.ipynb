{
 "cells": [
  {
   "cell_type": "markdown",
   "metadata": {},
   "source": [
    "모델 1> 텍스트 감정분석 모델  [nlp04/korean_sentiment_analysis_kcelectra]\n",
    "\n",
    "텍스트 감정분석 모델을 사용하여 브랜드(제품)에 대한 소비자의 이미지, 평판 등의 파악이 가능합니다.\n",
    "\n",
    "예시> 제품명 \"아이폰16E\"에 대한 트윗을 수집하고 감정 분석 모델로 긍/부정 감정을 파악한 뒤, 제품 평판 혹은 소비자 만족도를 분석하는 것\n",
    "\n",
    "\n",
    "방식\n",
    "\n",
    "1- SNS데이터 수집 \n",
    "\n",
    "2- 수집된 데이터에 감정분석모델 적용\n",
    "\n",
    "3- 분석 결과 정리\n",
    "\n",
    "4- 시각화 및 분석 후 인사이트 도출"
   ]
  },
  {
   "cell_type": "code",
   "execution_count": 1,
   "metadata": {},
   "outputs": [
    {
     "name": "stderr",
     "output_type": "stream",
     "text": [
      "/Library/Frameworks/Python.framework/Versions/3.10/lib/python3.10/site-packages/tqdm/auto.py:21: TqdmWarning: IProgress not found. Please update jupyter and ipywidgets. See https://ipywidgets.readthedocs.io/en/stable/user_install.html\n",
      "  from .autonotebook import tqdm as notebook_tqdm\n",
      "Device set to use mps:0\n"
     ]
    },
    {
     "name": "stdout",
     "output_type": "stream",
     "text": [
      "[{'label': '기쁨(행복한)', 'score': 0.5651624798774719}]\n"
     ]
    }
   ],
   "source": [
    "#  Hugging face 에서 가져온 텍스트감정분석 모델의 예시입니다.[파이썬 3.13에서는 오류 있어요]\n",
    "\n",
    "from transformers import pipeline\n",
    "\n",
    "model_name = \"nlp04/korean_sentiment_analysis_kcelectra\"\n",
    "sentiment_analyzer = pipeline(\"sentiment-analysis\", model=model_name)\n",
    "\n",
    "test_sentence = \"정말 최고의 영화였어요!\"\n",
    "result = sentiment_analyzer(test_sentence)\n",
    "\n",
    "print(result)\n",
    "\n",
    "\n",
    "# 결과는   >>   [{'label': '기쁨(행복한)', 'score': 0.5651623606681824}]  <<  이런식으로 도출됨\n"
   ]
  },
  {
   "cell_type": "markdown",
   "metadata": {},
   "source": []
  },
  {
   "cell_type": "markdown",
   "metadata": {},
   "source": [
    "1 - 트위터 개발자 계정과 연결"
   ]
  },
  {
   "cell_type": "code",
   "execution_count": 9,
   "metadata": {},
   "outputs": [],
   "source": [
    "import tweepy\n",
    "from transformers import pipeline\n",
    "from collections import Counter\n",
    "import matplotlib.pyplot as plt\n",
    "import platform\n",
    "\n",
    "if platform.system() == 'Windows':\n",
    "    plt.rcParams['font.family'] = 'Malgun Gothic'\n",
    "\n",
    "\n",
    "bearer_token = \"개인 트위터 API 토큰\" # X개발자 토큰 \n",
    "client = tweepy.Client( bearer_token=bearer_token) \n"
   ]
  },
  {
   "cell_type": "markdown",
   "metadata": {},
   "source": [
    "2 - 트위터 글 수집"
   ]
  },
  {
   "cell_type": "code",
   "execution_count": null,
   "metadata": {},
   "outputs": [
    {
     "ename": "TooManyRequests",
     "evalue": "429 Too Many Requests\nToo Many Requests",
     "output_type": "error",
     "traceback": [
      "\u001b[1;31m---------------------------------------------------------------------------\u001b[0m",
      "\u001b[1;31mTooManyRequests\u001b[0m                           Traceback (most recent call last)",
      "Cell \u001b[1;32mIn[11], line 2\u001b[0m\n\u001b[0;32m      1\u001b[0m query \u001b[38;5;241m=\u001b[39m \u001b[38;5;124m\"\u001b[39m\u001b[38;5;124m아이폰16E -is:retweet lang:ko\u001b[39m\u001b[38;5;124m\"\u001b[39m\n\u001b[1;32m----> 2\u001b[0m tweets \u001b[38;5;241m=\u001b[39m \u001b[43mclient\u001b[49m\u001b[38;5;241;43m.\u001b[39;49m\u001b[43msearch_recent_tweets\u001b[49m\u001b[43m(\u001b[49m\u001b[43mquery\u001b[49m\u001b[38;5;241;43m=\u001b[39;49m\u001b[43mquery\u001b[49m\u001b[43m,\u001b[49m\u001b[43m \u001b[49m\u001b[43mmax_results\u001b[49m\u001b[38;5;241;43m=\u001b[39;49m\u001b[38;5;241;43m100\u001b[39;49m\u001b[43m)\u001b[49m\n\u001b[0;32m      4\u001b[0m tweet_texts \u001b[38;5;241m=\u001b[39m [tweet\u001b[38;5;241m.\u001b[39mtext \u001b[38;5;28;01mfor\u001b[39;00m tweet \u001b[38;5;129;01min\u001b[39;00m tweets\u001b[38;5;241m.\u001b[39mdata]\n",
      "File \u001b[1;32mc:\\Users\\santa\\AppData\\Local\\Programs\\Python\\Python310\\lib\\site-packages\\tweepy\\client.py:1270\u001b[0m, in \u001b[0;36mClient.search_recent_tweets\u001b[1;34m(self, query, user_auth, **params)\u001b[0m\n\u001b[0;32m   1178\u001b[0m \u001b[38;5;250m\u001b[39m\u001b[38;5;124;03m\"\"\"search_recent_tweets( \\\u001b[39;00m\n\u001b[0;32m   1179\u001b[0m \u001b[38;5;124;03m    query, *, end_time=None, expansions=None, max_results=None, \\\u001b[39;00m\n\u001b[0;32m   1180\u001b[0m \u001b[38;5;124;03m    media_fields=None, next_token=None, place_fields=None, \\\u001b[39;00m\n\u001b[1;32m   (...)\u001b[0m\n\u001b[0;32m   1267\u001b[0m \u001b[38;5;124;03m.. _Academic Research Project: https://developer.twitter.com/en/docs/projects\u001b[39;00m\n\u001b[0;32m   1268\u001b[0m \u001b[38;5;124;03m\"\"\"\u001b[39;00m\n\u001b[0;32m   1269\u001b[0m params[\u001b[38;5;124m\"\u001b[39m\u001b[38;5;124mquery\u001b[39m\u001b[38;5;124m\"\u001b[39m] \u001b[38;5;241m=\u001b[39m query\n\u001b[1;32m-> 1270\u001b[0m \u001b[38;5;28;01mreturn\u001b[39;00m \u001b[38;5;28;43mself\u001b[39;49m\u001b[38;5;241;43m.\u001b[39;49m\u001b[43m_make_request\u001b[49m\u001b[43m(\u001b[49m\n\u001b[0;32m   1271\u001b[0m \u001b[43m    \u001b[49m\u001b[38;5;124;43m\"\u001b[39;49m\u001b[38;5;124;43mGET\u001b[39;49m\u001b[38;5;124;43m\"\u001b[39;49m\u001b[43m,\u001b[49m\u001b[43m \u001b[49m\u001b[38;5;124;43m\"\u001b[39;49m\u001b[38;5;124;43m/2/tweets/search/recent\u001b[39;49m\u001b[38;5;124;43m\"\u001b[39;49m\u001b[43m,\u001b[49m\u001b[43m \u001b[49m\u001b[43mparams\u001b[49m\u001b[38;5;241;43m=\u001b[39;49m\u001b[43mparams\u001b[49m\u001b[43m,\u001b[49m\n\u001b[0;32m   1272\u001b[0m \u001b[43m    \u001b[49m\u001b[43mendpoint_parameters\u001b[49m\u001b[38;5;241;43m=\u001b[39;49m\u001b[43m(\u001b[49m\n\u001b[0;32m   1273\u001b[0m \u001b[43m        \u001b[49m\u001b[38;5;124;43m\"\u001b[39;49m\u001b[38;5;124;43mend_time\u001b[39;49m\u001b[38;5;124;43m\"\u001b[39;49m\u001b[43m,\u001b[49m\u001b[43m \u001b[49m\u001b[38;5;124;43m\"\u001b[39;49m\u001b[38;5;124;43mexpansions\u001b[39;49m\u001b[38;5;124;43m\"\u001b[39;49m\u001b[43m,\u001b[49m\u001b[43m \u001b[49m\u001b[38;5;124;43m\"\u001b[39;49m\u001b[38;5;124;43mmax_results\u001b[39;49m\u001b[38;5;124;43m\"\u001b[39;49m\u001b[43m,\u001b[49m\u001b[43m \u001b[49m\u001b[38;5;124;43m\"\u001b[39;49m\u001b[38;5;124;43mmedia.fields\u001b[39;49m\u001b[38;5;124;43m\"\u001b[39;49m\u001b[43m,\u001b[49m\n\u001b[0;32m   1274\u001b[0m \u001b[43m        \u001b[49m\u001b[38;5;124;43m\"\u001b[39;49m\u001b[38;5;124;43mnext_token\u001b[39;49m\u001b[38;5;124;43m\"\u001b[39;49m\u001b[43m,\u001b[49m\u001b[43m \u001b[49m\u001b[38;5;124;43m\"\u001b[39;49m\u001b[38;5;124;43mplace.fields\u001b[39;49m\u001b[38;5;124;43m\"\u001b[39;49m\u001b[43m,\u001b[49m\u001b[43m \u001b[49m\u001b[38;5;124;43m\"\u001b[39;49m\u001b[38;5;124;43mpoll.fields\u001b[39;49m\u001b[38;5;124;43m\"\u001b[39;49m\u001b[43m,\u001b[49m\u001b[43m \u001b[49m\u001b[38;5;124;43m\"\u001b[39;49m\u001b[38;5;124;43mquery\u001b[39;49m\u001b[38;5;124;43m\"\u001b[39;49m\u001b[43m,\u001b[49m\n\u001b[0;32m   1275\u001b[0m \u001b[43m        \u001b[49m\u001b[38;5;124;43m\"\u001b[39;49m\u001b[38;5;124;43msince_id\u001b[39;49m\u001b[38;5;124;43m\"\u001b[39;49m\u001b[43m,\u001b[49m\u001b[43m \u001b[49m\u001b[38;5;124;43m\"\u001b[39;49m\u001b[38;5;124;43msort_order\u001b[39;49m\u001b[38;5;124;43m\"\u001b[39;49m\u001b[43m,\u001b[49m\u001b[43m \u001b[49m\u001b[38;5;124;43m\"\u001b[39;49m\u001b[38;5;124;43mstart_time\u001b[39;49m\u001b[38;5;124;43m\"\u001b[39;49m\u001b[43m,\u001b[49m\u001b[43m \u001b[49m\u001b[38;5;124;43m\"\u001b[39;49m\u001b[38;5;124;43mtweet.fields\u001b[39;49m\u001b[38;5;124;43m\"\u001b[39;49m\u001b[43m,\u001b[49m\n\u001b[0;32m   1276\u001b[0m \u001b[43m        \u001b[49m\u001b[38;5;124;43m\"\u001b[39;49m\u001b[38;5;124;43muntil_id\u001b[39;49m\u001b[38;5;124;43m\"\u001b[39;49m\u001b[43m,\u001b[49m\u001b[43m \u001b[49m\u001b[38;5;124;43m\"\u001b[39;49m\u001b[38;5;124;43muser.fields\u001b[39;49m\u001b[38;5;124;43m\"\u001b[39;49m\n\u001b[0;32m   1277\u001b[0m \u001b[43m    \u001b[49m\u001b[43m)\u001b[49m\u001b[43m,\u001b[49m\u001b[43m \u001b[49m\u001b[43mdata_type\u001b[49m\u001b[38;5;241;43m=\u001b[39;49m\u001b[43mTweet\u001b[49m\u001b[43m,\u001b[49m\u001b[43m \u001b[49m\u001b[43muser_auth\u001b[49m\u001b[38;5;241;43m=\u001b[39;49m\u001b[43muser_auth\u001b[49m\n\u001b[0;32m   1278\u001b[0m \u001b[43m\u001b[49m\u001b[43m)\u001b[49m\n",
      "File \u001b[1;32mc:\\Users\\santa\\AppData\\Local\\Programs\\Python\\Python310\\lib\\site-packages\\tweepy\\client.py:129\u001b[0m, in \u001b[0;36mBaseClient._make_request\u001b[1;34m(self, method, route, params, endpoint_parameters, json, data_type, user_auth)\u001b[0m\n\u001b[0;32m    123\u001b[0m \u001b[38;5;28;01mdef\u001b[39;00m\u001b[38;5;250m \u001b[39m\u001b[38;5;21m_make_request\u001b[39m(\n\u001b[0;32m    124\u001b[0m     \u001b[38;5;28mself\u001b[39m, method, route, params\u001b[38;5;241m=\u001b[39m{}, endpoint_parameters\u001b[38;5;241m=\u001b[39m(), json\u001b[38;5;241m=\u001b[39m\u001b[38;5;28;01mNone\u001b[39;00m,\n\u001b[0;32m    125\u001b[0m     data_type\u001b[38;5;241m=\u001b[39m\u001b[38;5;28;01mNone\u001b[39;00m, user_auth\u001b[38;5;241m=\u001b[39m\u001b[38;5;28;01mFalse\u001b[39;00m\n\u001b[0;32m    126\u001b[0m ):\n\u001b[0;32m    127\u001b[0m     request_params \u001b[38;5;241m=\u001b[39m \u001b[38;5;28mself\u001b[39m\u001b[38;5;241m.\u001b[39m_process_params(params, endpoint_parameters)\n\u001b[1;32m--> 129\u001b[0m     response \u001b[38;5;241m=\u001b[39m \u001b[38;5;28;43mself\u001b[39;49m\u001b[38;5;241;43m.\u001b[39;49m\u001b[43mrequest\u001b[49m\u001b[43m(\u001b[49m\u001b[43mmethod\u001b[49m\u001b[43m,\u001b[49m\u001b[43m \u001b[49m\u001b[43mroute\u001b[49m\u001b[43m,\u001b[49m\u001b[43m \u001b[49m\u001b[43mparams\u001b[49m\u001b[38;5;241;43m=\u001b[39;49m\u001b[43mrequest_params\u001b[49m\u001b[43m,\u001b[49m\n\u001b[0;32m    130\u001b[0m \u001b[43m                            \u001b[49m\u001b[43mjson\u001b[49m\u001b[38;5;241;43m=\u001b[39;49m\u001b[43mjson\u001b[49m\u001b[43m,\u001b[49m\u001b[43m \u001b[49m\u001b[43muser_auth\u001b[49m\u001b[38;5;241;43m=\u001b[39;49m\u001b[43muser_auth\u001b[49m\u001b[43m)\u001b[49m\n\u001b[0;32m    132\u001b[0m     \u001b[38;5;28;01mif\u001b[39;00m \u001b[38;5;28mself\u001b[39m\u001b[38;5;241m.\u001b[39mreturn_type \u001b[38;5;129;01mis\u001b[39;00m requests\u001b[38;5;241m.\u001b[39mResponse:\n\u001b[0;32m    133\u001b[0m         \u001b[38;5;28;01mreturn\u001b[39;00m response\n",
      "File \u001b[1;32mc:\\Users\\santa\\AppData\\Local\\Programs\\Python\\Python310\\lib\\site-packages\\tweepy\\client.py:115\u001b[0m, in \u001b[0;36mBaseClient.request\u001b[1;34m(self, method, route, params, json, user_auth)\u001b[0m\n\u001b[0;32m    113\u001b[0m         \u001b[38;5;28;01mreturn\u001b[39;00m \u001b[38;5;28mself\u001b[39m\u001b[38;5;241m.\u001b[39mrequest(method, route, params, json, user_auth)\n\u001b[0;32m    114\u001b[0m     \u001b[38;5;28;01melse\u001b[39;00m:\n\u001b[1;32m--> 115\u001b[0m         \u001b[38;5;28;01mraise\u001b[39;00m TooManyRequests(response)\n\u001b[0;32m    116\u001b[0m \u001b[38;5;28;01mif\u001b[39;00m response\u001b[38;5;241m.\u001b[39mstatus_code \u001b[38;5;241m>\u001b[39m\u001b[38;5;241m=\u001b[39m \u001b[38;5;241m500\u001b[39m:\n\u001b[0;32m    117\u001b[0m     \u001b[38;5;28;01mraise\u001b[39;00m TwitterServerError(response)\n",
      "\u001b[1;31mTooManyRequests\u001b[0m: 429 Too Many Requests\nToo Many Requests"
     ]
    }
   ],
   "source": [
    "query = \"아이폰16E -is:retweet lang:ko\"\n",
    "tweets = client.search_recent_tweets(query=query, max_results=100)\n",
    "\n",
    "tweet_texts = [tweet.text for tweet in tweets.data]"
   ]
  },
  {
   "cell_type": "markdown",
   "metadata": {},
   "source": [
    "3 - 모델 설정 및 수행"
   ]
  },
  {
   "cell_type": "code",
   "execution_count": 4,
   "metadata": {},
   "outputs": [
    {
     "name": "stderr",
     "output_type": "stream",
     "text": [
      "Device set to use cpu\n"
     ]
    }
   ],
   "source": [
    "model_name = \"nlp04/korean_sentiment_analysis_kcelectra\"\n",
    "sentiment_analyzer = pipeline(\"sentiment-analysis\", model=model_name)\n",
    "\n",
    "results = [sentiment_analyzer(text)[0][\"label\"] for text in tweet_texts]"
   ]
  },
  {
   "cell_type": "markdown",
   "metadata": {},
   "source": [
    "4 - 통계 집계 "
   ]
  },
  {
   "cell_type": "code",
   "execution_count": 6,
   "metadata": {},
   "outputs": [
    {
     "name": "stdout",
     "output_type": "stream",
     "text": [
      "Counter({'일상적인': 23, '슬픔(우울한)': 2, '생각이 많은': 1, '짜증남': 1, '설레는(기대하는)': 1})\n"
     ]
    }
   ],
   "source": [
    "counts = Counter(results)\n",
    "print(counts)"
   ]
  },
  {
   "cell_type": "markdown",
   "metadata": {},
   "source": [
    "5 - 데이터 정제 및 시각화 "
   ]
  },
  {
   "cell_type": "code",
   "execution_count": 8,
   "metadata": {},
   "outputs": [
    {
     "data": {
      "image/png": "[encoded data removed]",
      "text/plain": [
       "<Figure size 640x480 with 1 Axes>"
      ]
     },
     "metadata": {},
     "output_type": "display_data"
    }
   ],
   "source": [
    "from collections import Counter\n",
    "filtered_results = [r for r in results if r != '일상적인']\n",
    "counts = Counter(filtered_results)\n",
    "\n",
    "\n",
    "fig, ax = plt.subplots()\n",
    "ax.bar(counts.keys(), counts.values(), color=\"skyblue\")\n",
    "ax.set(title=\"아이폰16E 제품에 대한 소비자 감정 분석\", xlabel=\"감정\", ylabel=\"트윗 수\")\n",
    "plt.xticks(rotation=30)\n",
    "plt.show()"
   ]
  },
  {
   "cell_type": "markdown",
   "metadata": {},
   "source": [
    "정리: 무료 계정이라 데이터를 가져올 수 있는 양이 적었지만, 제대로 활용한다면<기업차원에서 비용을 들여 API를 활용한다면> 비즈니스적으로 유용한 인사이트를 도출할 수 있을 것이라고 생각합니다. 실제로 아이폰 16E에 대한 평가가 좋지 않은 만큼, 데이터에서도 부정적인 결과값이 (4배) 많음을 알 수 있습니다.\n",
    "(무료 X.dev 계정의 경우 최근 일주일 간의 데이터만 가져올 수 있었고, 그래서 20개 가량의 트윗밖에 확보하지 못했습니다.)\n",
    "\n",
    "추가 아이디어들 \n",
    "\n",
    "시간간별 분석 :\t감정 변화를 시간 순으로 분석\n",
    "\n",
    "키워드 필터링 :\t\"아이폰16E 배터리\", \"아이폰16E 디자인\" 등 세부 항목 분석\n",
    "\n",
    "지역 기반 분석 : 지역간 평판 차이 파악가능 "
   ]
  },
  {
   "cell_type": "markdown",
   "metadata": {},
   "source": []
  },
  {
   "cell_type": "markdown",
   "metadata": {},
   "source": [
    "모델 2> 한국어 특화 임베딩 모델  [nlp04/korean_sentiment_analysis_kcelectra]\n",
    "\n",
    "리뷰 분석 및 클러스터링: 유사한 리뷰를 그룹화하여 주요 개선사항을 도출하고, 우선적인 피드백을 파악하는데 이용할 수 있습니다. \n"
   ]
  },
  {
   "cell_type": "code",
   "execution_count": 16,
   "metadata": {},
   "outputs": [],
   "source": [
    "from sentence_transformers import SentenceTransformer\n",
    "from sklearn.cluster import KMeans\n",
    "import pandas as pd\n",
    "import matplotlib.pyplot as plt\n",
    "import seaborn as sns\n",
    "\n",
    "# 예시 리뷰 데이터\n",
    "review_ex = [\n",
    "    \"배터리가 너무 빨리 닳아요.\",\n",
    "    \"디자인이 예쁘고 마음에 들어요.\",\n",
    "    \"발열이 심해서 불편해요.\",\n",
    "    \"배터리가 너무 심각하다.\",\n",
    "    \"디자인은 좋은데, 마감이 아쉬움\",\n",
    "    \"게임 4시간하니까 배터리 10%남아서 확인해보니 불량이였습니다.\",\n",
    "    \"가격 동결 미쳤다.\",\n",
    "    \"게임할때 발열이 너무 심함\",\n",
    "    \"충전 속도가 느려요.\",\n",
    "    \"화면이 깨끗하고 터치가 잘 돼요.\",\n",
    "    \"무게가 15g 증가했는데 생각보다 체감됩니다.\"\n",
    "    \"무게가 너무 무거워요.\",\n",
    "    \"열이 많이 나요.\",\n",
    "    \"환율때문에 가격 걱정 많았는데 그래도 동결이면 괜찮은듯\",\n",
    "    \"배터리 오래 가서 좋음\",\n",
    "    \"디자인 좀 더 개선되면 좋겠어요.\",\n",
    "    \"터치가 잘 안 돼요.\"\n",
    "]\n",
    "\n",
    "# 1. KURE 임베딩 모델 로드\n",
    "model = SentenceTransformer(\"nlpai-lab/KURE-v1\")\n",
    "\n",
    "# 2. 문장 임베딩 생성\n",
    "embeddings = model.encode(review_ex)"
   ]
  },
  {
   "cell_type": "code",
   "execution_count": 17,
   "metadata": {},
   "outputs": [],
   "source": [
    "# 3. 클러스터링 (갯수를 정해야 해서 6개로 분류하였습니다.)\n",
    "num_clusters = 6\n",
    "kmeans = KMeans(n_clusters=num_clusters, random_state=42)\n",
    "labels = kmeans.fit_predict(embeddings)\n",
    "\n",
    "# 4. 데이터프레임으로 정리\n",
    "df = pd.DataFrame({'리뷰': review_ex, '클러스터': labels})"
   ]
  },
  {
   "cell_type": "code",
   "execution_count": 18,
   "metadata": {},
   "outputs": [
    {
     "name": "stderr",
     "output_type": "stream",
     "text": [
      "C:\\Users\\santa\\AppData\\Local\\Temp\\ipykernel_27768\\3400556986.py:4: FutureWarning: \n",
      "\n",
      "Passing `palette` without assigning `hue` is deprecated and will be removed in v0.14.0. Assign the `x` variable to `hue` and set `legend=False` for the same effect.\n",
      "\n",
      "  sns.countplot(data=df, x='클러스터', palette='pastel')\n"
     ]
    },
    {
     "data": {
      "image/png": "[encoded data removed]",
      "text/plain": [
       "<Figure size 1000x400 with 1 Axes>"
      ]
     },
     "metadata": {},
     "output_type": "display_data"
    },
    {
     "name": "stdout",
     "output_type": "stream",
     "text": [
      "                                       리뷰  클러스터\n",
      "0                         배터리가 너무 빨리 닳아요.     5\n",
      "1                       디자인이 예쁘고 마음에 들어요.     4\n",
      "2                           발열이 심해서 불편해요.     2\n",
      "3                           배터리가 너무 심각하다.     5\n",
      "4                       디자인은 좋은데, 마감이 아쉬움     4\n",
      "5     게임 4시간하니까 배터리 10%남아서 확인해보니 불량이였습니다.     0\n",
      "6                              가격 동결 미쳤다.     5\n",
      "7                          게임할때 발열이 너무 심함     2\n",
      "8                             충전 속도가 느려요.     5\n",
      "9                      화면이 깨끗하고 터치가 잘 돼요.     1\n",
      "10  무게가 15g 증가했는데 생각보다 체감됩니다.무게가 너무 무거워요.     5\n",
      "11                              열이 많이 나요.     2\n",
      "12         환율때문에 가격 걱정 많았는데 그래도 동결이면 괜찮은듯     4\n",
      "13                           배터리 오래 가서 좋음     3\n",
      "14                     디자인 좀 더 개선되면 좋겠어요.     4\n",
      "15                            터치가 잘 안 돼요.     1\n"
     ]
    }
   ],
   "source": [
    "# 5. 클러스터별 시각화\n",
    "sns.set(style=\"whitegrid\", font=\"Malgun Gothic\")\n",
    "plt.figure(figsize=(10, 4))\n",
    "sns.countplot(data=df, x='클러스터', palette='pastel')\n",
    "\n",
    "plt.title(\"KURE 기반 리뷰 클러스터링 결과\")\n",
    "plt.xlabel(\"클러스터 번호\")\n",
    "plt.ylabel(\"리뷰 수\")\n",
    "plt.show()\n",
    "\n",
    "\n",
    "print(df)"
   ]
  },
  {
   "cell_type": "markdown",
   "metadata": {},
   "source": [
    "결과: 관련된 리뷰들이 보편적으로 모이긴 했습니다. 예를 들어서 2,7,11 모두 발열 관련 내용이고, 클러스터링번호 2번에 묶여있습니다. \n",
    "다만 0,3,13번의 경우 배터리 관련인데 13번은 혼자 5번으로 가있습니다. \n",
    "\n",
    "이는 클러스터링 모델이 긍정/부정 차이까지 영향을 받기 때문이며, 개선할 수 있는 방법은, 모델1을 활용해 리뷰의 긍정/부정 내용을 먼저 분석하고 나눈 후, 부정적인 리뷰를 바탕으로 모델을 사용하면, 가장 우선시되는 제품의 피드백 요소를 파악할 수 있을 것이라고 생각합니다. \n",
    "\n",
    "결과적으로 이 모델은 단순히 데이터를 분류하는 데에 그치지 않고, 비즈니스 인사이트를 추출하는 데 유용한 도구가 될 수 있습니다.\n",
    "특히 클러스터별 리뷰 수, 감정 성향을 함께 분석하면 고객이 어떤 문제에 가장 민감하게 반응하는지, 그리고 브랜드의 핵심 개선 포인트가 무엇인지 빠르게 파악할 수 있습니다.\n",
    "\n",
    "이는 고객 응대, R&D 기획, 마케팅 전략 등 다양한 부서에 활용 가능한 고객 중심 데이터 기반 전략 수립으로 확장될 수 있습니다.\n",
    "\n"
   ]
  },
  {
   "cell_type": "markdown",
   "metadata": {},
   "source": []
  },
  {
   "cell_type": "markdown",
   "metadata": {},
   "source": [
    "모델 3> 문저 재정렬 모델 [mxbai-rerank-base-v2]\n",
    "\n",
    " 정보 검색 시스템 등에서 초기 검색된 결과들을 다시 정렬해서 가장 관련성 높은 순으로 재배열하는 데 사용되는 모델 \n",
    " 이커머스같은 시스템에서 검색 시스템의 개선에 활용이 가능하며, 검색엔진이나 사용자가 찾는 정보를 주는 과정에서 유용할것이라고 생각합니다.\n",
    " \n",
    " 고객 쿼리에 대해 더 연관성 높은 상품 설명 우선 정렬이 가능합니다. \n",
    " "
   ]
  },
  {
   "cell_type": "code",
   "execution_count": 52,
   "metadata": {},
   "outputs": [
    {
     "name": "stderr",
     "output_type": "stream",
     "text": [
      "Some weights of Qwen2ForSequenceClassification were not initialized from the model checkpoint at mixedbread-ai/mxbai-rerank-large-v2 and are newly initialized: ['score.weight']\n",
      "You should probably TRAIN this model on a down-stream task to be able to use it for predictions and inference.\n"
     ]
    }
   ],
   "source": [
    "from transformers import AutoTokenizer, AutoModelForSequenceClassification\n",
    "from torch.nn.functional import softmax\n",
    "import torch\n",
    "\n",
    "model_name = \"mixedbread-ai/mxbai-rerank-large-v2\"\n",
    "tokenizer = AutoTokenizer.from_pretrained(model_name)\n",
    "model = AutoModelForSequenceClassification.from_pretrained(model_name)\n",
    "\n",
    "# 고객 검색 쿼리\n",
    "query = \"배터리 오래가는 노트북 추천\""
   ]
  },
  {
   "cell_type": "code",
   "execution_count": 53,
   "metadata": {},
   "outputs": [],
   "source": [
    "candidates = [\n",
    "    \"고성능 CPU와 배터리 최적화로 하루 종일 사용 가능한 노트북입니다.\",\n",
    "    \"가볍고, CPU 좋고, 배터리도 오래가는 노트북\",\n",
    "    \"가성비 좋은 노트북 고르는 방법\",\n",
    "    \"최신 그래픽이 탑재된 게임용 노트북. 배터리는 4시간.\",\n",
    "    \"배터리 교체가 가능한 모델로 장시간 사용에 유리합니다.\",\n",
    "    \"가볍고 배터리 오래가는 노트북 추천 부탁드립니다.\",\n",
    "    \"슬림한 디자인과 빠른 부팅이 특징인 노트북입니다.\",\n",
    "    \"요즘 많이 보이는 노트북 이제품\",\n",
    "    \"한번 충전으로 끝가지 간다? 배터리 최강 노트북 톱5\",\n",
    "    \"맥북 배터리 vs 노오급 윈도우 노트북들\",\n",
    "    \"배터리 정말 오래가는 노트북 있을까요?\",\n",
    "    \"노트북 배터리 마라톤의 승자는??\",\n",
    "    \"가볍고 cpu 좋고 배터리도 오래가는 노트북 추천\",\n",
    "    \"최강 프로세서의 탑제, 이 제품입니다!\"\n",
    "]\n"
   ]
  },
  {
   "cell_type": "code",
   "execution_count": 54,
   "metadata": {},
   "outputs": [],
   "source": [
    "# 각 후보에 대해 점수 계산\n",
    "scores = []\n",
    "for passage in candidates:\n",
    "    inputs = tokenizer(query, passage, return_tensors=\"pt\", truncation=True)\n",
    "    with torch.no_grad():\n",
    "        logits = model(**inputs).logits\n",
    "        probs = softmax(logits, dim=1)\n",
    "        score = probs[0][1].item()  # 'relevant' 클래스 확률\n",
    "        scores.append(score)"
   ]
  },
  {
   "cell_type": "code",
   "execution_count": 56,
   "metadata": {},
   "outputs": [
    {
     "name": "stdout",
     "output_type": "stream",
     "text": [
      "1위 (점수: 0.9676): 한번 충전으로 끝가지 간다? 배터리 최강 노트북 톱5\n",
      "2위 (점수: 0.9658): 가볍고, CPU 좋고, 배터리도 오래가는 노트북\n",
      "3위 (점수: 0.9590): 가성비 좋은 노트북 고르는 방법\n",
      "4위 (점수: 0.9552): 요즘 많이 보이는 노트북 이제품\n",
      "5위 (점수: 0.9389): 가볍고 cpu 좋고 배터리도 오래가는 노트북 추천\n",
      "6위 (점수: 0.9386): 최강 프로세서의 탑제, 이 제품입니다!\n",
      "7위 (점수: 0.9371): 고성능 CPU와 배터리 최적화로 하루 종일 사용 가능한 노트북입니다.\n",
      "8위 (점수: 0.9367): 배터리 정말 오래가는 노트북 있을까요?\n",
      "9위 (점수: 0.9356): 최신 그래픽이 탑재된 게임용 노트북. 배터리는 4시간.\n",
      "10위 (점수: 0.9000): 배터리 교체가 가능한 모델로 장시간 사용에 유리합니다.\n",
      "11위 (점수: 0.8977): 맥북 배터리 vs 노오급 윈도우 노트북들\n",
      "12위 (점수: 0.8615): 가볍고 배터리 오래가는 노트북 추천 부탁드립니다.\n",
      "13위 (점수: 0.8581): 노트북 배터리 마라톤의 승자는??\n",
      "14위 (점수: 0.8110): 슬림한 디자인과 빠른 부팅이 특징인 노트북입니다.\n"
     ]
    }
   ],
   "source": [
    "# 점수 기준으로 재정렬\n",
    "reranked = [x for _, x in sorted(zip(scores, candidates), reverse=True)]\n",
    "\n",
    "# 결과 출력\n",
    "for i, (score, text) in enumerate(sorted(zip(scores, candidates), reverse=True), 1):\n",
    "    print(f\"{i}위 (점수: {score:.4f}): {text}\")"
   ]
  },
  {
   "cell_type": "markdown",
   "metadata": {},
   "source": [
    "결론 : 사용자가 원하는 쿼리를 바탕으로 결과값을 재정렬함으로써, 최적의 결과값을 도출해낼 수 있게 되는 비즈니스적 해결이 가능합니다.\n",
    "\n",
    "고객이 원하는 정보는 무엇이고, 시스템이 뭘 우선순위로 보는가를 파악 할 수 있지만, 모델의 한계로 사용자의 클릭률이 낮다면, 모델과 실제 판단 사이에 차이가 존재한다는 뜻이므로, 피드백 루프의 설계 또한 가능합니다.\n",
    "\n"
   ]
  },
  {
   "cell_type": "markdown",
   "metadata": {},
   "source": []
  }
 ],
 "metadata": {
  "kernelspec": {
   "display_name": "Python 3",
   "language": "python",
   "name": "python3"
  },
  "language_info": {
   "codemirror_mode": {
    "name": "ipython",
    "version": 3
   },
   "file_extension": ".py",
   "mimetype": "text/x-python",
   "name": "python",
   "nbconvert_exporter": "python",
   "pygments_lexer": "ipython3",
   "version": "3.10.11"
  }
 },
 "nbformat": 4,
 "nbformat_minor": 2
}
